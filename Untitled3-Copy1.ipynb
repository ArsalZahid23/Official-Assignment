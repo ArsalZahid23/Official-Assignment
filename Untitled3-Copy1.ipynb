{
 "cells": [
  {
   "cell_type": "code",
   "execution_count": 5,
   "metadata": {},
   "outputs": [
    {
     "name": "stdout",
     "output_type": "stream",
     "text": [
      "Enter radius of circle:0.5\n",
      "0.7855\n"
     ]
    }
   ],
   "source": [
    "Radius_of_circle = float (input(\"Enter radius of circle:\"))\n",
    "pi_radius = 3.142\n",
    "Result = pi_radius*Radius_of_circle**2\n",
    "print(Result)"
   ]
  },
  {
   "cell_type": "code",
   "execution_count": 12,
   "metadata": {},
   "outputs": [
    {
     "name": "stdout",
     "output_type": "stream",
     "text": [
      "Enter your number:587238532985932\n",
      "positive number\n"
     ]
    }
   ],
   "source": [
    "number = float (input(\"Enter your number:\"))\n",
    "if number>=0:\n",
    "    print(\"positive number\")\n",
    "elif number<=0:\n",
    "    print (\"negative number\")\n",
    "elif number==0:\n",
    "    print (\"zero entered\")\n",
    "else:\n",
    "    print (\"uk\")"
   ]
  },
  {
   "cell_type": "code",
   "execution_count": 13,
   "metadata": {},
   "outputs": [
    {
     "name": "stdout",
     "output_type": "stream",
     "text": [
      "Enter your number:12\n",
      "Enter your number:4\n",
      "number12.0 is completely divisible by 4.0\n"
     ]
    }
   ],
   "source": [
    "numerator= float (input(\"Enter your number:\"))\n",
    "Denominator = float (input(\"Enter your number:\"))\n",
    "result = (numerator%Denominator)\n",
    "if result == 0:\n",
    "    print(\"number\" + str (numerator)+ \" is completely divisible by \" + str (Denominator))\n",
    "else:\n",
    "    print (\"number\" + str (numerator)+ \"is not completelt divisible by \" + str (Denominator))"
   ]
  },
  {
   "cell_type": "code",
   "execution_count": 14,
   "metadata": {},
   "outputs": [
    {
     "name": "stdout",
     "output_type": "stream",
     "text": [
      "Enter Radius:1\n",
      "4.189333333333333\n"
     ]
    }
   ],
   "source": [
    "Radius = float (input(\"Enter Radius:\"))\n",
    "pi = 3.142\n",
    "volume=0\n",
    "volume = 4/3 *pi*Radius\n",
    "print(volume)"
   ]
  },
  {
   "cell_type": "code",
   "execution_count": 15,
   "metadata": {},
   "outputs": [
    {
     "name": "stdout",
     "output_type": "stream",
     "text": [
      "Enter string:hi\n",
      "Enter copies:4\n",
      "hihihihi\n"
     ]
    }
   ],
   "source": [
    "string = input(\"Enter string:\")\n",
    "copy = int (input(\"Enter copies:\"))\n",
    "result = string * copy\n",
    "print(result)"
   ]
  },
  {
   "cell_type": "code",
   "execution_count": 18,
   "metadata": {},
   "outputs": [
    {
     "name": "stdout",
     "output_type": "stream",
     "text": [
      "Enter no check:2143\n",
      "odd no\n"
     ]
    }
   ],
   "source": [
    "check = int(input(\"Enter no check:\"))\n",
    "if check%2==0:\n",
    "    print(\"Even\")\n",
    "else:\n",
    "    print (\"odd no\")"
   ]
  },
  {
   "cell_type": "code",
   "execution_count": 19,
   "metadata": {},
   "outputs": [
    {
     "name": "stdout",
     "output_type": "stream",
     "text": [
      "Enter a vowel:e\n",
      "this vowel\n"
     ]
    }
   ],
   "source": [
    "vowel = (input(\"Enter a vowel:\")).upper()\n",
    "if vowel==\"A\" or vowel==\"E\" or vowel==\"I\" or vowel==\"O\" or vowel==\"U\":\n",
    "     print (\"this vowel\")\n",
    "else:\n",
    "    print (\"not vowel\")"
   ]
  },
  {
   "cell_type": "code",
   "execution_count": 20,
   "metadata": {},
   "outputs": [
    {
     "name": "stdout",
     "output_type": "stream",
     "text": [
      "Enter no:6\n",
      "Enter no:7\n",
      "21.0\n"
     ]
    }
   ],
   "source": [
    "base = float(input(\"Enter no:\"))\n",
    "height = float (input(\"Enter no:\"))\n",
    "triangle = (height*base)/2\n",
    "print(triangle)"
   ]
  },
  {
   "cell_type": "code",
   "execution_count": 24,
   "metadata": {},
   "outputs": [
    {
     "name": "stdout",
     "output_type": "stream",
     "text": [
      "Enter your principle amount:10000\n",
      "Enter your rate:1\n",
      "Enter investment:6\n",
      "After years 6 and principle_amount 10000 Enter rate 1.0 will be 640000.0\n"
     ]
    }
   ],
   "source": [
    "principle_amount =int(input(\"Enter your principle amount:\"))\n",
    "Enter_rate = float(input(\"Enter your rate:\"))\n",
    "investment = int(input(\"Enter investment:\"))\n",
    "Result =(principle_amount *(1+ Enter_rate) ** investment)\n",
    "print(f\"After years {investment} and principle_amount {principle_amount} Enter rate {Enter_rate} will be {Result}\")"
   ]
  },
  {
   "cell_type": "code",
   "execution_count": 27,
   "metadata": {},
   "outputs": [
    {
     "name": "stdout",
     "output_type": "stream",
     "text": [
      "Enter your co-ordinate x1:2\n",
      "Enter your co-ordinate x2:4\n",
      "Enter your co-ordinate y1:4\n",
      "Enter your co-ordinate y2:4\n",
      "4\n"
     ]
    }
   ],
   "source": [
    "x1 = int(input(\"Enter your co-ordinate x1:\"))\n",
    "x2 = int(input(\"Enter your co-ordinate x2:\"))\n",
    "y1 = int(input(\"Enter your co-ordinate y1:\"))\n",
    "y2 = int(input(\"Enter your co-ordinate y2:\"))\n",
    "Result = (x2-x1)*(x2-x1) + (y2-y1)* (y2-y1)\n",
    "print(Result)"
   ]
  },
  {
   "cell_type": "code",
   "execution_count": 50,
   "metadata": {},
   "outputs": [
    {
     "name": "stdout",
     "output_type": "stream",
     "text": [
      "Enter your height in feet:7\n",
      "213.36\n"
     ]
    }
   ],
   "source": [
    "height = float(input(\"Enter your height in feet:\"))\n",
    "print(height * 30.48)"
   ]
  },
  {
   "cell_type": "code",
   "execution_count": 51,
   "metadata": {},
   "outputs": [
    {
     "name": "stdout",
     "output_type": "stream",
     "text": [
      "Enter height in cm:200\n",
      "Enter weight in kg:120\n",
      "480.0\n"
     ]
    }
   ],
   "source": [
    "Enter_height = float(input(\"Enter height in cm:\"))\n",
    "Enter_weight = float(input(\"Enter weight in kg:\"))\n",
    "Enter_height = Enter_height/100\n",
    "result = Enter_weight * Enter_height*2\n",
    "print(result)"
   ]
  },
  {
   "cell_type": "code",
   "execution_count": 55,
   "metadata": {},
   "outputs": [
    {
     "name": "stdout",
     "output_type": "stream",
     "text": [
      "Enter value of n:2\n",
      "sum of positive intigers till  2.0 is  3.0\n"
     ]
    }
   ],
   "source": [
    "n = float(input(\"Enter value of n:\"))\n",
    "sum_of_n_integers = n * (n+1) //2\n",
    "print(f\"sum of positive intigers till  {n} is  {sum_of_n_integers}\")"
   ]
  },
  {
   "cell_type": "code",
   "execution_count": 60,
   "metadata": {},
   "outputs": [
    {
     "name": "stdout",
     "output_type": "stream",
     "text": [
      "Enter a no:4567\n",
      "4\n",
      "5\n",
      "6\n",
      "7\n",
      "the sum of digits 4567 in the number is 22\n"
     ]
    }
   ],
   "source": [
    "no = int(input(\"Enter a no:\"))\n",
    "no1 = no //1000\n",
    "print (no1)\n",
    "no2 = (no - no1*1000)//100\n",
    "print (no2)\n",
    "no3 = (no - no1*1000 - no2*100)//10\n",
    "print (no3)\n",
    "no4 = no - no1*1000 - no2*100 - no3*10\n",
    "print (no4)\n",
    "\n",
    "print(\"the sum of digits \" + str (no) + \" in the number is\" , no1+no2+no3+no4,)"
   ]
  },
  {
   "cell_type": "markdown",
   "metadata": {},
   "source": []
  }
 ],
 "metadata": {
  "kernelspec": {
   "display_name": "Python 3",
   "language": "python",
   "name": "python3"
  },
  "language_info": {
   "codemirror_mode": {
    "name": "ipython",
    "version": 3
   },
   "file_extension": ".py",
   "mimetype": "text/x-python",
   "name": "python",
   "nbconvert_exporter": "python",
   "pygments_lexer": "ipython3",
   "version": "3.7.3"
  }
 },
 "nbformat": 4,
 "nbformat_minor": 2
}
